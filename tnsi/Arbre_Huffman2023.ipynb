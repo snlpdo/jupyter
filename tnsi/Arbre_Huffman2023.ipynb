{
 "cells": [
  {
   "cell_type": "markdown",
   "metadata": {},
   "source": [
    "# Compression de texte\n",
    "\n",
    "L'idée est de remplacer les caractères du texte par des **codes de longueurs variables** (on parle donc de *codage*) en réservant :\n",
    "- les codes courts pour les caractères couramment utilisés (ex: `'e'`, `'a'`, `' '`....).\n",
    "- les codes plus longs pour les caractères peu utilisés (ex: `'z'`, `'w'`...)."
   ]
  },
  {
   "cell_type": "markdown",
   "metadata": {},
   "source": [
    "Sommaire:\n",
    "- [1. Nombre d'occurrence](#freq)\n",
    "- [2. Codage des caractères](#codage)\n",
    "    - [a. Arbre de Huffman](#arbre)\n",
    "    - [b. Table de correspondance](#lut)\n",
    "    - [c. Compression du texte](#compression)\n",
    "- [3. Décodage](#decodage)"
   ]
  },
  {
   "cell_type": "markdown",
   "metadata": {},
   "source": [
    "## 1. Occurrences <a id=\"freq\"></a>"
   ]
  },
  {
   "cell_type": "markdown",
   "metadata": {},
   "source": [
    "Pour mettre en place ce codage, il est essentiel de connaître le nombre d'occurrences de chaque caractère. \n",
    "\n",
    "Nous travaillerons ici sur le texte suivant :"
   ]
  },
  {
   "cell_type": "code",
   "execution_count": null,
   "metadata": {},
   "outputs": [],
   "source": [
    "texte = \"\"\"\n",
    "   Un jour, Cunégonde, en se promenant\n",
    "   auprès du château, dans le petit bois qu'on appelait\n",
    "   parc, vit entre des broussailles le docteur Pangloss qui donnait\n",
    "   une leçon de physique expérimentale à la\n",
    "   femme de chambre de sa mère, petite brune très jolie\n",
    "   et très docile. Comme Mlle Cunégonde avait beaucoup\n",
    "   de dispositions pour les sciences, elle observa, sans souffler,\n",
    "   les expériences réitérées dont elle\n",
    "   fut témoin; elle vit clairement la raison suffisante du\n",
    "   docteur, les effets et les causes, et s'en retourna tout\n",
    "   agitée, toute pensive, toute remplie du désir\n",
    "   d'être savante, songeant qu'elle pourrait bien être la\n",
    "   raison suffisante du jeune Candide, qui pouvait aussi être\n",
    "   la sienne.\n",
    "   \"\"\""
   ]
  },
  {
   "cell_type": "markdown",
   "metadata": {},
   "source": [
    "**Questionnement:** \n",
    "- Quel est le nombre de caractères `nb_tot` dans ce texte ?"
   ]
  },
  {
   "cell_type": "code",
   "execution_count": null,
   "metadata": {},
   "outputs": [],
   "source": []
  },
  {
   "cell_type": "markdown",
   "metadata": {},
   "source": [
    "- Quel type de codage est actuellement utilisé pour ces caractères ?"
   ]
  },
  {
   "cell_type": "code",
   "execution_count": null,
   "metadata": {},
   "outputs": [],
   "source": []
  },
  {
   "cell_type": "markdown",
   "metadata": {},
   "source": [
    "- Combien d'octets sont nécessaires pour stocker ce texte ?"
   ]
  },
  {
   "cell_type": "code",
   "execution_count": null,
   "metadata": {},
   "outputs": [],
   "source": []
  },
  {
   "cell_type": "markdown",
   "metadata": {},
   "source": [
    "- Créer et compléter un *dictionnaire* `occurrences` où chaque clé est un caractère du texte et la valeur associée indique le nombre d'occurrences dans ce caractère dans le texte."
   ]
  },
  {
   "cell_type": "code",
   "execution_count": null,
   "metadata": {},
   "outputs": [],
   "source": []
  },
  {
   "cell_type": "markdown",
   "metadata": {},
   "source": [
    "Vérifier que la somme de toutes ces valeurs vaut `nb_tot` :"
   ]
  },
  {
   "cell_type": "code",
   "execution_count": null,
   "metadata": {},
   "outputs": [],
   "source": [
    "# Calcul de la somme\n",
    "somme = 0\n",
    "# À compléter\n",
    "\n",
    "assert somme==nb_tot, \"Le dictionnaire d'occurrences n'est pas correctement rempli\""
   ]
  },
  {
   "cell_type": "markdown",
   "metadata": {},
   "source": [
    "Combien de caractères distincts contient ce texte ?"
   ]
  },
  {
   "cell_type": "code",
   "execution_count": null,
   "metadata": {},
   "outputs": [],
   "source": []
  },
  {
   "cell_type": "markdown",
   "metadata": {},
   "source": [
    "- Créer une liste `freq_occurrence` où chaque élément est un tuple indiquant :\n",
    "\n",
    "    - le caractère\n",
    "    - sa fréquence d'occurrence associée. La formule de conversion est la suivante :\n",
    "    \n",
    "        $\\text{freq_occurrence} = \\frac{\\text{nombre_occurrences}}{\\text{nb_tot}}$"
   ]
  },
  {
   "cell_type": "code",
   "execution_count": null,
   "metadata": {},
   "outputs": [],
   "source": []
  },
  {
   "cell_type": "markdown",
   "metadata": {},
   "source": [
    "- Trier cette liste (avec la méthode de votre choix) selon les fréquences d'occurrences décroissantes. Quels sont les 5 caractères qui apparaissent le plus souvent ?"
   ]
  },
  {
   "cell_type": "code",
   "execution_count": null,
   "metadata": {},
   "outputs": [],
   "source": []
  },
  {
   "cell_type": "markdown",
   "metadata": {},
   "source": [
    "## 2. Codage des caractères <a id=\"codage\"></a>"
   ]
  },
  {
   "cell_type": "markdown",
   "metadata": {},
   "source": [
    "Le code de chaque caractère correspond à son chemin absolu dans l'arbre ci-après. Par convention, on lit un chemin en ajoutant :\n",
    "- `0` si on se déplace vers l'enfant gauche.\n",
    "- `1` si on se déplace vers l'enfant droit.\n",
    "\n",
    "![Arbre de Huffman ](https://snlpdo.fr/tnsi/img/04-ex_arbre_huffman.png)"
   ]
  },
  {
   "cell_type": "markdown",
   "metadata": {},
   "source": [
    "Exemples:\n",
    "- Le caractère `'e'` est remplacé par le code `100` (=3 bits).\n",
    "- Le caractère `'a'` est remplacé par le code `11111` (=5 bits)\n",
    "\n",
    "**Questionnement:**\n",
    "- Comment appelle-t-on les n&oelig;uds étiquetés d'un caractère dans cet arbre ?"
   ]
  },
  {
   "cell_type": "code",
   "execution_count": null,
   "metadata": {},
   "outputs": [],
   "source": []
  },
  {
   "cell_type": "markdown",
   "metadata": {},
   "source": [
    "- Identifier le code qui remplace la portion de texte `Un jour` en utilisant cet arbre :"
   ]
  },
  {
   "cell_type": "code",
   "execution_count": null,
   "metadata": {},
   "outputs": [],
   "source": []
  },
  {
   "cell_type": "markdown",
   "metadata": {},
   "source": [
    "- Combien de bits fait ce code ? Combien d'octets faudrait-il pour le stocker ?"
   ]
  },
  {
   "cell_type": "code",
   "execution_count": null,
   "metadata": {},
   "outputs": [],
   "source": []
  },
  {
   "cell_type": "markdown",
   "metadata": {},
   "source": [
    "### a. Construction de l'arbre <a id=\"arbre\"></a>\n",
    "\n",
    "Pour compresser le plus possible, il faut que les caractères les plus (resp. moins) utilisés soient situés sur les feuilles les plus proches (resp. éloignées) de la racine.\n",
    "\n",
    "L'arbre de Huffman peut s'obtenir en appliquant l'algorithme suivant:\n",
    "\n",
    "<div class=\"alert alert-block alert-danger\">\n",
    "    \n",
    "1. Pour chaque caractère `c`, on crée un nouvel arbre (d'un seul n&oelig;ud) dont la racine vaut `(c, nb(c))`.\n",
    "\n",
    "2. On fusionne les 2 arbres de fréquences d'occurrence minimales `f(c1)` et `f(c2)` en un seul nouvel arbre dont:\n",
    "    - les enfants sont les 2 arbres précédents,\n",
    "    - la racine a pour nouvelle fréquence `f(c1)+f(c2)` (le nouveau caractère, s'appelera arbitrairement `c1+c2`).\n",
    "\n",
    "3. On répète l'opération 2 jusqu'à n'avoir plus qu'un seul arbre."
   ]
  },
  {
   "cell_type": "markdown",
   "metadata": {},
   "source": [
    "Exemple simple de classe d'arbre :"
   ]
  },
  {
   "cell_type": "code",
   "execution_count": null,
   "metadata": {},
   "outputs": [],
   "source": [
    "class Arbre:\n",
    "    def __init__(self, valeur, gauche=None, droite=None):\n",
    "        self.valeur = valeur\n",
    "        self.gauche = gauche\n",
    "        self.droite = droite"
   ]
  },
  {
   "cell_type": "markdown",
   "metadata": {},
   "source": [
    "**Questionnement :**\n",
    "- **Étape 1** : remplir une liste `liste_arbres` avec autant d'arbres que de caractères présents dans le texte.\n",
    "\n",
    "    Chaque arbre :\n",
    "    \n",
    "    - n'est constitué que d'un nœud (il n'a pas de sous-arbre ni à gauche ni à droite)\n",
    "    - sa valeur contient un tuple formé du caractère et de sa fréquence d'occurrence associée."
   ]
  },
  {
   "cell_type": "code",
   "execution_count": null,
   "metadata": {},
   "outputs": [],
   "source": []
  },
  {
   "cell_type": "markdown",
   "metadata": {},
   "source": [
    "- **Étape 2a** : Écrire la fonction `extract_min` qui extrait l'élément minimal d'une telle liste (attention: les éléments de cette liste sont des Arbres et le tri se fait sur la 2ème partie du tuple)"
   ]
  },
  {
   "cell_type": "code",
   "execution_count": null,
   "metadata": {},
   "outputs": [],
   "source": [
    "def extract_min(liste):\n",
    "    pass"
   ]
  },
  {
   "cell_type": "code",
   "execution_count": null,
   "metadata": {},
   "outputs": [],
   "source": [
    "# Vérification (attention ce test est destructif : il\n",
    "# régénérer liste_arbres avant de passer à la suite)\n",
    "a = extract_min(liste_arbres)\n",
    "assert a.root[0] == 'U', \"Il ne s'agit pas du bon minimum\"\n",
    "assert len(liste_arbres)==38, \"Il faut supprimer le minimum de la liste des arbres\""
   ]
  },
  {
   "cell_type": "markdown",
   "metadata": {},
   "source": [
    "- **Étapes 2b et 3** : fusionner tous les arbres de cette liste selon l'algorithme de Huffman"
   ]
  },
  {
   "cell_type": "code",
   "execution_count": null,
   "metadata": {},
   "outputs": [],
   "source": [
    "# Algorithme de Huffman\n",
    "while len(liste_arbres)>1: # tant qu'il reste plus d'un noeud\n",
    "    # Extraire le 1er arbre de fréquence minimale\n",
    "    \n",
    "    # Extraire le 2ème arbre de fréquence minimale\n",
    "    \n",
    "    # Fusionner ces 2 arbres pour créer en un nouveau\n",
    "    \n",
    "    # Ajouter ce nouvel arbre dans la liste\n",
    "    "
   ]
  },
  {
   "cell_type": "code",
   "execution_count": null,
   "metadata": {},
   "outputs": [],
   "source": [
    "# Dernier arbre restant\n",
    "arbre_huffman = liste_arbres[0]\n",
    "arbre_huffman.valeur"
   ]
  },
  {
   "cell_type": "markdown",
   "metadata": {},
   "source": [
    "### b. Table de correspondance <a id=\"lut\"></a>\n",
    "\n",
    "Pour accélérer la phase de codage, on va remplir un *dictionnaire* Python `lut` où les **clés** sont les caractères du texte et les **valeurs** sont les codes de Huffman correspondants.\n",
    "\n",
    "Exemple: `lut['e'] = '100'`"
   ]
  },
  {
   "cell_type": "markdown",
   "metadata": {},
   "source": [
    "**Questionnement :**\n",
    "\n",
    "- Quel type de parcours d'arbre permet d'identifier le chemin de chaque caractère ?"
   ]
  },
  {
   "cell_type": "code",
   "execution_count": null,
   "metadata": {},
   "outputs": [],
   "source": []
  },
  {
   "cell_type": "markdown",
   "metadata": {},
   "source": [
    "- Mettre en &oelig;uvre ce parcours pour remplir la table de correspondance `lut`:"
   ]
  },
  {
   "cell_type": "code",
   "execution_count": null,
   "metadata": {},
   "outputs": [],
   "source": []
  },
  {
   "cell_type": "markdown",
   "metadata": {},
   "source": [
    "### c. Compression du texte <a id=\"compression\"></a>\n",
    "\n",
    "- Utiliser la table de correspondance précédente pour générer le code correspondant au texte fourni au début de ce document"
   ]
  },
  {
   "cell_type": "code",
   "execution_count": null,
   "metadata": {},
   "outputs": [],
   "source": []
  },
  {
   "cell_type": "markdown",
   "metadata": {},
   "source": [
    "- Quel taux de compression obtient-t-on ? (on suppose que le code obtenu est sauvegardé en binaire)"
   ]
  },
  {
   "cell_type": "code",
   "execution_count": null,
   "metadata": {},
   "outputs": [],
   "source": []
  },
  {
   "cell_type": "markdown",
   "metadata": {},
   "source": [
    "## 3. Décodage <a id=\"decodage\"></a>\n",
    "\n",
    "<div class=\"alert alert-danger\">\n",
    "    \n",
    "**Algorithme:**\n",
    "\n",
    "1. On se place à la racine de l'arbre de Huffman \n",
    "2. On lit un bit *b* du texte compressé &rarr; **arrêt** si plus de bit disponible.\n",
    "3. On descend dans l'arbre:\n",
    "  - à gauche si *b=0*\n",
    "  - à droite si *b=1*\n",
    "3. Si le n&oelig;ud atteint:\n",
    "  - est une feuille: on affiche le caractère décodé et on reprend à l'**étape 1**.\n",
    "  - est intermédiaire: on reprend à l'**étape 2**."
   ]
  },
  {
   "cell_type": "code",
   "execution_count": null,
   "metadata": {},
   "outputs": [],
   "source": []
  }
 ],
 "metadata": {
  "kernelspec": {
   "display_name": "Python 3 (ipykernel)",
   "language": "python",
   "name": "python3"
  },
  "language_info": {
   "codemirror_mode": {
    "name": "ipython",
    "version": 3
   },
   "file_extension": ".py",
   "mimetype": "text/x-python",
   "name": "python",
   "nbconvert_exporter": "python",
   "pygments_lexer": "ipython3",
   "version": "3.11.2"
  }
 },
 "nbformat": 4,
 "nbformat_minor": 4
}
