{
 "cells": [
  {
   "cell_type": "markdown",
   "id": "a5deaddd",
   "metadata": {
    "slideshow": {
     "slide_type": "slide"
    }
   },
   "source": [
    "<div class=\"alert alert-info\">\n",
    "    \n",
    "Notions abordées :\n",
    "    \n",
    "- dictionnaires\n",
    "- compréhension de `list`\n",
    "- file à l'aide d'une liste.\n",
    "- Fonction `sum` appliquée à une liste de dictionnaires.\n",
    "- Fonction `sorted` et son paramètre `key` (prog. fonctionnelle)\n",
    "    \n",
    "(optionnel)\n",
    "- docstring\n",
    "- doctest\n",
    "- typage des paramètres et valeur de retour de fonction (`typechecked`)"
   ]
  },
  {
   "cell_type": "code",
   "execution_count": null,
   "id": "e2eb4f2d",
   "metadata": {
    "slideshow": {
     "slide_type": "subslide"
    }
   },
   "outputs": [],
   "source": [
    "from typeguard import typechecked\n",
    "import doctest\n",
    "import copy"
   ]
  },
  {
   "cell_type": "markdown",
   "id": "e917febc",
   "metadata": {
    "slideshow": {
     "slide_type": "slide"
    }
   },
   "source": [
    "# Algorithmes d'ordonnancement"
   ]
  },
  {
   "cell_type": "markdown",
   "id": "172623a1",
   "metadata": {
    "slideshow": {
     "slide_type": "fragment"
    }
   },
   "source": [
    "Les processus sont stockés dans une liste et chaque processus est décrit à l'aide d'un dictionnaire à 3 clés `nom`, `t0` (instant où il est prêt) et `durée` (en ms). \n",
    "\n",
    "On utilise ici un quantum de 20 ms et une unité de temps de 10 ms."
   ]
  },
  {
   "cell_type": "code",
   "execution_count": null,
   "id": "93a36543",
   "metadata": {
    "slideshow": {
     "slide_type": "fragment"
    }
   },
   "outputs": [],
   "source": [
    "processes = [\n",
    "    { 'nom': 'PA', 't0':  0, 'durée': 100 },\n",
    "    { 'nom': 'PB', 't0': 30, 'durée':  40 },\n",
    "    { 'nom': 'PC', 't0': 20, 'durée':  80 },\n",
    "]\n",
    "quantum = 20\n",
    "unite = 10"
   ]
  },
  {
   "cell_type": "markdown",
   "id": "7deac113",
   "metadata": {
    "slideshow": {
     "slide_type": "subslide"
    }
   },
   "source": [
    "On fait l'hypothèse qu'il existe, à chaque instant, au moins un processus actif."
   ]
  },
  {
   "cell_type": "markdown",
   "id": "fdc9e676",
   "metadata": {
    "slideshow": {
     "slide_type": "fragment"
    }
   },
   "source": [
    "- Compléter le code pour calculer la durée totale d'ordonnancement (en nombre d'unités)"
   ]
  },
  {
   "cell_type": "code",
   "execution_count": null,
   "id": "4f8805f1",
   "metadata": {},
   "outputs": [],
   "source": [
    "duree_totale = ..."
   ]
  },
  {
   "cell_type": "markdown",
   "id": "97f5f449",
   "metadata": {
    "slideshow": {
     "slide_type": "slide"
    }
   },
   "source": [
    "## I. Ordonnancement par ordre d'arrivée (non-préemptif)\n",
    "\n",
    "Implémenter cet ordonnancement afin qu'il génère la liste suivante pour le jeu de données :\n",
    "\n",
    "```python\n",
    "[ 'PA', 'PA', 'PA', 'PA', 'PA', 'PA', 'PA', 'PA', 'PA', 'PA', 'PC', 'PC', 'PC', 'PC',\n",
    " 'PC', 'PC', 'PC', 'PC', 'PB', 'PB', 'PB', 'PB']\n",
    "```"
   ]
  },
  {
   "cell_type": "markdown",
   "id": "cabdbe54",
   "metadata": {
    "slideshow": {
     "slide_type": "fragment"
    }
   },
   "source": [
    "- Écrire les instructions pour obtenir une nouvelle liste de processus triés selon les instants (croissants) où ils sont prêts.\n",
    "\n",
    "Conseil : utiliser la fonction `sorted` et son paramètre `key`."
   ]
  },
  {
   "cell_type": "code",
   "execution_count": null,
   "id": "4725881a",
   "metadata": {},
   "outputs": [],
   "source": []
  },
  {
   "cell_type": "code",
   "execution_count": null,
   "id": "96830cfc",
   "metadata": {},
   "outputs": [],
   "source": [
    "nouvelle_liste = "
   ]
  },
  {
   "cell_type": "markdown",
   "id": "46f5b35f",
   "metadata": {
    "slideshow": {
     "slide_type": "subslide"
    }
   },
   "source": [
    "- Écrire la boucle permettant de générer le résultat (depuis la liste des processus triés)"
   ]
  },
  {
   "cell_type": "code",
   "execution_count": null,
   "id": "f01fa038",
   "metadata": {},
   "outputs": [],
   "source": [
    "resultat = []\n",
    "for p in nouvelle_liste:\n",
    "    ...\n",
    "\n",
    "resultat"
   ]
  },
  {
   "cell_type": "markdown",
   "id": "53e114a9",
   "metadata": {
    "slideshow": {
     "slide_type": "subslide"
    }
   },
   "source": [
    "Regrouper ces résultats dans la fonction suivante :"
   ]
  },
  {
   "cell_type": "code",
   "execution_count": null,
   "id": "8759f665",
   "metadata": {},
   "outputs": [],
   "source": [
    "def ordonnancement_ordre_arrivee(liste_proc, dt):    \n",
    "    # 1. Tri les processus selon leur ordre d'arrivée\n",
    "    processes_tries = \n",
    "    \n",
    "    # Génération du résultat\n",
    "    resultat = []\n",
    "    for p in processes_tries:\n",
    "        ...\n",
    "    \n",
    "    return resultat"
   ]
  },
  {
   "cell_type": "markdown",
   "id": "7e75c911",
   "metadata": {
    "slideshow": {
     "slide_type": "subslide"
    }
   },
   "source": [
    "- Pour tester :"
   ]
  },
  {
   "cell_type": "code",
   "execution_count": null,
   "id": "13f58210",
   "metadata": {
    "scrolled": true
   },
   "outputs": [],
   "source": [
    "ordonnancement_ordre_arrivee(processes, unite)"
   ]
  },
  {
   "cell_type": "markdown",
   "id": "8b31b259",
   "metadata": {
    "slideshow": {
     "slide_type": "slide"
    }
   },
   "source": [
    "## II. Ordonnancement par tourniquet (avec FIFO)"
   ]
  },
  {
   "cell_type": "markdown",
   "id": "57754241",
   "metadata": {},
   "source": [
    "<div class=\"alert alert-danger\">\n",
    "\n",
    "On utilise une `list` Python en tant que file (FIFO). Quel couple de méthodes permet d'enfiler et défiler des éléments dans cette structure ?"
   ]
  },
  {
   "cell_type": "code",
   "execution_count": null,
   "id": "e4b3da73",
   "metadata": {
    "slideshow": {
     "slide_type": "fragment"
    }
   },
   "outputs": [],
   "source": [
    "# File vide\n",
    "f = ...\n",
    "# Enfiler un premier élément (par exemple l'entier 5)\n",
    "...\n",
    "# Enfiler un deuxième élément (par exemple l'entier 3)\n",
    "...\n",
    "# Afficher la taille actuelle de la file\n",
    "..."
   ]
  },
  {
   "cell_type": "code",
   "execution_count": null,
   "id": "1b8febf1",
   "metadata": {
    "slideshow": {
     "slide_type": "fragment"
    }
   },
   "outputs": [],
   "source": [
    "# Défiler un élément\n",
    "..."
   ]
  },
  {
   "cell_type": "code",
   "execution_count": null,
   "id": "6fabafd1",
   "metadata": {
    "slideshow": {
     "slide_type": "subslide"
    }
   },
   "outputs": [],
   "source": [
    "def ordonnancement_round_robin(liste_proc, dt, q):\n",
    "\n",
    "    # Calcul de la durée totale\n",
    "    duree_totale = ...\n",
    "    \n",
    "    resultat = []\n",
    "\n",
    "    # File initialisée avec liste des processes prêts à l'instant 0\n",
    "    f = \n",
    "\n",
    "    t = 0\n",
    "    while t < duree_totale:\n",
    "        # Elire le processus courant (défiler)\n",
    "        processus = ...\n",
    "\n",
    "        # Exécuter durant 1 quantum (ou jusqu'à ce que le processus se termine)\n",
    "        for _ in range(...):\n",
    "\n",
    "            # Enfiler les processes qui seront prêts au prochain temps\n",
    "            for p in liste_proc:\n",
    "                ...\n",
    "            \n",
    "            t += 1\n",
    "            # Mise à jour de la durée du processus courant\n",
    "            processus...\n",
    "            # Ajouter le nom du processus au résultat\n",
    "            resultat...\n",
    "            \n",
    "            if processus['durée']==0: # Fin du processus ?\n",
    "                break\n",
    "\n",
    "        # Réenfiler le processus s'il n'est pas terminé\n",
    "        if processus...:\n",
    "            f...\n",
    "\n",
    "    return resultat"
   ]
  },
  {
   "cell_type": "code",
   "execution_count": null,
   "id": "fb94bd1f",
   "metadata": {
    "slideshow": {
     "slide_type": "subslide"
    }
   },
   "outputs": [],
   "source": [
    "ordonnancement_round_robin(copy.deepcopy(processes), unite, quantum)"
   ]
  }
 ],
 "metadata": {
  "celltoolbar": "Format de la Cellule Texte Brut",
  "kernelspec": {
   "display_name": "Python 3 (ipykernel)",
   "language": "python",
   "name": "python3"
  },
  "language_info": {
   "codemirror_mode": {
    "name": "ipython",
    "version": 3
   },
   "file_extension": ".py",
   "mimetype": "text/x-python",
   "name": "python",
   "nbconvert_exporter": "python",
   "pygments_lexer": "ipython3",
   "version": "3.10.7"
  }
 },
 "nbformat": 4,
 "nbformat_minor": 5
}
