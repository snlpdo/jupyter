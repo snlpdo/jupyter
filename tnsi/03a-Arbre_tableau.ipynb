{
 "cells": [
  {
   "cell_type": "markdown",
   "metadata": {},
   "source": [
    "# Implémentation d'arbre dans un tableau"
   ]
  },
  {
   "cell_type": "markdown",
   "metadata": {},
   "source": [
    "Rappel: Les éléments d'un tableau sont contigus dans la mémoire et repérés par un indice (entre crochets).\n",
    "\n",
    "En Python, on utilise généralement le type `list`:\n",
    "\n",
    "```python\n",
    "tableau = ['lundi', 'mardi', 'mercredi', 'jeudi', 'vendredi', 'samedi', 'dimanche']\n",
    "print(len(tableau), tableau[1])\n",
    "```"
   ]
  },
  {
   "cell_type": "markdown",
   "metadata": {},
   "source": [
    "- [I. Principe](#principe)\n",
    "    - [1. Fonctions de déplacement](#deplacement)\n",
    "    - [2. Documentation d'une fonction](#doc)\n",
    "        - [a. Docstring](#docstring)\n",
    "        - [b. Types](#typing)\n",
    "        - [c. Doctest](#doctest)\n",
    "    - [3. Exemple d'un arbre d'ascendance familiale](#ascendance)\n",
    "- [II. Version OO (naïve)](#OO)\n",
    "    - [1. Étape 1](#OOe1)\n",
    "    - [2. Étape 2](#OOe2)"
   ]
  },
  {
   "cell_type": "markdown",
   "metadata": {},
   "source": [
    "## I. Principe<a name=\"principe\"></a>"
   ]
  },
  {
   "cell_type": "markdown",
   "metadata": {},
   "source": [
    "Les nœuds de l’arbre sont placés successivement dans le tableau selon un parcours en **largeur** : \n",
    "- niveau par niveau (depuis la racine vers les feuilles), \n",
    "- chaque niveau est lu de la gauche vers la droite.\n",
    "\n",
    "*Remarques:*\n",
    "- *La racine se trouve à l'indice 0 et le dernier élément du tableau est la feuille la plus à droite du dernier niveau (si elle existe).*\n",
    "- *certains éléments du tableau peuvent être inutilisés (`None` en Python) si l’arbre n’est pas complet.*"
   ]
  },
  {
   "cell_type": "markdown",
   "metadata": {},
   "source": [
    "Écrire les instructions Python pour stocker les arbres suivants respectivement dans des tableaux t1 et t2:\n",
    "<img alt=\"Arbres pour t1 et t2\" src=\"https://snlpdo.fr/tnsi/img/01-ex_arbres.svg\" width=\"600\"/>"
   ]
  },
  {
   "cell_type": "code",
   "execution_count": null,
   "metadata": {},
   "outputs": [],
   "source": [
    "t1 = \n",
    "t2 = "
   ]
  },
  {
   "cell_type": "markdown",
   "metadata": {},
   "source": [
    "Vérifier que les 2 tableaux ont bien la même longueur"
   ]
  },
  {
   "cell_type": "code",
   "execution_count": null,
   "metadata": {},
   "outputs": [],
   "source": [
    "len(t1) == len(t2)"
   ]
  },
  {
   "cell_type": "markdown",
   "metadata": {},
   "source": [
    "### 1. Fonctions de déplacement <a name=\"deplacement\"></a>\n",
    "\n",
    "Écrire 3 fonctions qui permettent de se déplacer dans un arbre `arbre` donné (les noeuds sont identifiés par leurs indices):\n",
    "- `index_left`: renvoie l'indice de l'enfant gauche du noeud d'indice `i` (-1 si le noeud n'existe pas).\n",
    "- `index_right`: renvoie l'indice de l'enfant droit du noeud d'indice `i` (-1 si le noeud n'existe pas).\n",
    "- `index_up`: renvoie l'indice du parent (-1 si la fonction est appelée pour la racine).\n",
    "\n",
    "Compléter les fonctions ci-après (ajouter les paramètres nécessaires)."
   ]
  },
  {
   "cell_type": "code",
   "execution_count": null,
   "metadata": {},
   "outputs": [],
   "source": [
    "def index_left():\n",
    "    ..."
   ]
  },
  {
   "cell_type": "markdown",
   "metadata": {},
   "source": [
    "Tests significatifs avec la fonction `index_left()` : \n",
    "- indice de l'enfant gauche de 0 pour t1 &rarr; 1\n",
    "- indice de l'enfant gauche de 5 pour t1 &rarr; -1\n",
    "- indice de l'enfant gauche de 1 pour t2 &rarr; -1\n",
    "- Valeur de l'enfant gauche de 0 pour t1 &rarr; 'B'\n",
    "\n",
    "(corriger la fonction si vous n'obtenez pas les bons résultats)"
   ]
  },
  {
   "cell_type": "code",
   "execution_count": null,
   "metadata": {},
   "outputs": [],
   "source": []
  },
  {
   "cell_type": "code",
   "execution_count": null,
   "metadata": {},
   "outputs": [],
   "source": [
    "def index_right():\n",
    "    ..."
   ]
  },
  {
   "cell_type": "markdown",
   "metadata": {},
   "source": [
    "Tests significatifs sur la fonction `index_right()`:"
   ]
  },
  {
   "cell_type": "code",
   "execution_count": null,
   "metadata": {},
   "outputs": [],
   "source": []
  },
  {
   "cell_type": "code",
   "execution_count": null,
   "metadata": {},
   "outputs": [],
   "source": [
    "def index_up():\n",
    "    ..."
   ]
  },
  {
   "cell_type": "markdown",
   "metadata": {},
   "source": [
    "Tests significatifs sur la fonction `index_up()`:"
   ]
  },
  {
   "cell_type": "code",
   "execution_count": null,
   "metadata": {},
   "outputs": [],
   "source": []
  },
  {
   "cell_type": "markdown",
   "metadata": {},
   "source": [
    "Vérifier le fonctionnement de ces fonctions sur les exemples suivants:\n",
    "- enfant droit de l'enfant gauche de la racine de t1"
   ]
  },
  {
   "cell_type": "code",
   "execution_count": null,
   "metadata": {},
   "outputs": [],
   "source": [
    "idx_enfant_gauche = index_left(0, t1)\n",
    "if idx_enfant_gauche != -1:\n",
    "    idx_enfant_droit = index_right(idx_enfant_gauche, t1)\n",
    "    if idx_enfant_droit != -1:\n",
    "        print(t1[idx_enfant_droit])\n",
    "    else:\n",
    "        print(\"Pas d'enfant droit pour l'enfant gauche\")\n",
    "else:\n",
    "    print(\"Pas d'enfant gauche pour la racine\")"
   ]
  },
  {
   "cell_type": "markdown",
   "metadata": {},
   "source": [
    "- enfant droit de l'enfant gauche de la racine de t2"
   ]
  },
  {
   "cell_type": "code",
   "execution_count": null,
   "metadata": {},
   "outputs": [],
   "source": [
    "enfant_gauche = index_left(0, t2)\n",
    "if enfant_gauche != -1:\n",
    "    enfant_droit = index_right(enfant_gauche, t2)\n",
    "    if enfant_droit != -1:\n",
    "        print(t2[enfant_droit])\n",
    "    else:\n",
    "        print(\"Pas d'enfant droit pour l'enfant gauche\")\n",
    "else:\n",
    "    print(\"Pas d'enfant gauche pour la racine\")"
   ]
  },
  {
   "cell_type": "markdown",
   "metadata": {},
   "source": [
    "### 2. Documentation <a name=\"doc\"></a>\n",
    "\n",
    "#### a. Docstring <a name=\"docstring\"></a>\n",
    "\n",
    "La *docstring* d'une fonction en Python est une chaîne de caractères sur plusieurs lignes spécifiée juste après la ligne de déclaration (mot clé `def`) et la première ligne d'instruction de la fonction. Consulter [cette page](https://www.python.org/dev/peps/pep-0257/) pour plus d'information.\n",
    "\n",
    "Exemple:"
   ]
  },
  {
   "cell_type": "code",
   "execution_count": null,
   "metadata": {},
   "outputs": [],
   "source": [
    "def ma_fonction(a,b):\n",
    "    \"\"\"\n",
    "    Renvoie la somme de a et b.\n",
    "    \"\"\"\n",
    "    return a+b"
   ]
  },
  {
   "cell_type": "markdown",
   "metadata": {},
   "source": [
    "Cette chaîne s'affiche, entre autre, lorsqu'on demande de l'aide sur la fonction:"
   ]
  },
  {
   "cell_type": "code",
   "execution_count": null,
   "metadata": {},
   "outputs": [],
   "source": [
    "help(ma_fonction)"
   ]
  },
  {
   "cell_type": "markdown",
   "metadata": {},
   "source": [
    "Recopier les 3 fonctions `index_right`, `index_left` et `index_up` précédentes en ajoutant des *docstring*"
   ]
  },
  {
   "cell_type": "code",
   "execution_count": null,
   "metadata": {},
   "outputs": [],
   "source": [
    "def index_left():\n",
    "    ...\n",
    "\n",
    "def index_right():\n",
    "    ...\n",
    "\n",
    "def index_up():\n",
    "    ..."
   ]
  },
  {
   "cell_type": "markdown",
   "metadata": {},
   "source": [
    "Afficher l'aide pour vérifier le fonctionnement:"
   ]
  },
  {
   "cell_type": "code",
   "execution_count": null,
   "metadata": {},
   "outputs": [],
   "source": [
    "help(index_left)"
   ]
  },
  {
   "cell_type": "code",
   "execution_count": null,
   "metadata": {},
   "outputs": [],
   "source": [
    "help(index_right)"
   ]
  },
  {
   "cell_type": "code",
   "execution_count": null,
   "metadata": {},
   "outputs": [],
   "source": [
    "help(index_up)"
   ]
  },
  {
   "cell_type": "markdown",
   "metadata": {},
   "source": [
    "### b. Types<a name=\"typing\"></a>\n",
    "\n",
    "Depuis Python 3.5, il est possible d'indiquer le [type d'une variable](https://docs.python.org/fr/3.10/library/typing.html). Pour une fonction, cela peut se faire au niveau :\n",
    "- de ses paramètres (avec le format: `parametre: <type>`)\n",
    "- de sa valeur de retour (avec le format: `ma_fonction() -> <type>`)\n",
    "\n",
    "Exemple:\n",
    "```python\n",
    "def ma_fonction(a: int,b: int) -> int:\n",
    "    return a+b\n",
    "```\n",
    "\n",
    "<div class=\"alert-danger\">\n",
    "    \n",
    "Cette information de type n'est qu'**informative**: aucune erreur ne survient si on effectue : `ma_fonction(2, 3.5)`"
   ]
  },
  {
   "cell_type": "markdown",
   "metadata": {},
   "source": [
    "Pour forcer la vérification des types, il est possible d'utilise le [module `typeguard`](https://typeguard.readthedocs.io/en/latest/) de la manière suivante:"
   ]
  },
  {
   "cell_type": "code",
   "execution_count": null,
   "metadata": {},
   "outputs": [],
   "source": [
    "from typeguard import typechecked\n",
    "\n",
    "@typechecked\n",
    "def ma_fonction(a: int,b: int) -> int:\n",
    "    return a/b"
   ]
  },
  {
   "cell_type": "markdown",
   "metadata": {},
   "source": [
    "Tester la fonction ci-dessus en respectant ou non les types déclarés"
   ]
  },
  {
   "cell_type": "code",
   "execution_count": null,
   "metadata": {},
   "outputs": [],
   "source": []
  },
  {
   "cell_type": "markdown",
   "metadata": {},
   "source": [
    "Recopier les 3 fonctions `index_right`, `index_left` et `index_up` précédentes en ajoutant les types"
   ]
  },
  {
   "cell_type": "code",
   "execution_count": null,
   "metadata": {},
   "outputs": [],
   "source": []
  },
  {
   "cell_type": "markdown",
   "metadata": {},
   "source": [
    "#### c. Doctest d'une fonction <a name=\"doctest\"></a>\n",
    "\n",
    "\n",
    "Ce module Python permet de vérifier le fonctionnement d'une fonction en spécifiant un exemple d'utilisation dans la console (appel avec `>>>` suivi du résultat attendu) dans la *docstring*. Consulter [cette page](https://docs.python.org/3/library/doctest.html) pour plus d'information.\n",
    "\n",
    "Par exemple:"
   ]
  },
  {
   "cell_type": "code",
   "execution_count": null,
   "metadata": {},
   "outputs": [],
   "source": [
    "def ma_fonction(a,b):\n",
    "    \"\"\"\n",
    "    Renvoie la somme de a et b.\n",
    "    \n",
    "    >>> ma_fonction(1,4)\n",
    "    5\n",
    "    \"\"\"\n",
    "    return a+b//2"
   ]
  },
  {
   "cell_type": "markdown",
   "metadata": {},
   "source": [
    "Pour effectuer le test (aucun résultat ne s'affiche si le test s'exécute sans erreur):"
   ]
  },
  {
   "cell_type": "code",
   "execution_count": null,
   "metadata": {},
   "outputs": [],
   "source": [
    "import doctest\n",
    "doctest.run_docstring_examples(ma_fonction, globals(), verbose=True)"
   ]
  },
  {
   "cell_type": "markdown",
   "metadata": {},
   "source": [
    "Corriger le doctest pour que la cellule précédente s'exécute sans afficher de message d'erreur."
   ]
  },
  {
   "cell_type": "markdown",
   "metadata": {},
   "source": [
    "Ajouter un ou plusieurs tests significatifs dans les 3 fonctions `index_right`, `index_left` et `index_up` et vérifier leur bon fonctionnement:"
   ]
  },
  {
   "cell_type": "code",
   "execution_count": null,
   "metadata": {},
   "outputs": [],
   "source": [
    "def index_left():\n",
    "    ...\n",
    "\n",
    "def index_right():\n",
    "    ...\n",
    "\n",
    "def index_up():\n",
    "    ..."
   ]
  },
  {
   "cell_type": "code",
   "execution_count": null,
   "metadata": {},
   "outputs": [],
   "source": [
    "doctest.run_docstring_examples(index_left, globals(), verbose=True)\n",
    "doctest.run_docstring_examples(index_right, globals(), verbose=True)\n",
    "doctest.run_docstring_examples(index_up, globals(), verbose=True)"
   ]
  },
  {
   "cell_type": "markdown",
   "metadata": {},
   "source": [
    "*Note: si toutes les fonctions sont placés dans un même fichier `monfichier.py`, il est possible d'exécuter tous les tests de toutes les fonctions en une seule instruction (dans le shell):*\n",
    "```console\n",
    "$ python -m doctest -v monfichier.py\n",
    "```"
   ]
  },
  {
   "cell_type": "markdown",
   "metadata": {},
   "source": [
    "### 3. Exemple d'un arbre d'ascendance familiale <a name=\"ascendance\"></a>"
   ]
  },
  {
   "cell_type": "code",
   "execution_count": null,
   "metadata": {},
   "outputs": [],
   "source": [
    "famille = ['Alice', 'Béatrice', 'Christian', 'Delphine', 'Éric', 'Françoise', 'Gabriel', 'Hélène', 'Ivan', 'Julie', 'Kévin', 'Lucie', 'Marc', 'Noémie', 'Otto']"
   ]
  },
  {
   "cell_type": "markdown",
   "metadata": {},
   "source": [
    "**Attention:** dans l'arbre d'ascendance, les *enfants droit et gauche* (=terminologie des arbres en informatique) correspondent respectivement à la mère et ou père de la personne (=terminologie de la généalogie).\n",
    "\n",
    "Utiliser les fonctions précédentes créer les fonctions suivantes (penser à ajouter les types de paramètres et de valeur de retour dans les lignes de déclaration):\n",
    "- une fonction `index` qui renvoit l'index d'un élément dans un tableau."
   ]
  },
  {
   "cell_type": "code",
   "execution_count": null,
   "metadata": {},
   "outputs": [],
   "source": []
  },
  {
   "cell_type": "markdown",
   "metadata": {},
   "source": [
    "- Une fonction qui renvoit le nom du grand-père maternel d'une personne (tester avec Alice)"
   ]
  },
  {
   "cell_type": "code",
   "execution_count": null,
   "metadata": {},
   "outputs": [],
   "source": []
  },
  {
   "cell_type": "markdown",
   "metadata": {},
   "source": [
    "- Une fonction qui renvoit la liste des ascendants féminins d'une personne (tester avec Béatrice)"
   ]
  },
  {
   "cell_type": "code",
   "execution_count": null,
   "metadata": {},
   "outputs": [],
   "source": []
  },
  {
   "cell_type": "markdown",
   "metadata": {},
   "source": [
    "- Une fonction qui identifie si une personne est l'enfant d'une autre personne (tester avec Ivan et Christian)"
   ]
  },
  {
   "cell_type": "code",
   "execution_count": null,
   "metadata": {},
   "outputs": [],
   "source": []
  },
  {
   "cell_type": "markdown",
   "metadata": {},
   "source": [
    "- Une fonction qui identifie si 2 personnes ont un lien de parenté direct (tester avec Delphine et Lucie)"
   ]
  },
  {
   "cell_type": "code",
   "execution_count": null,
   "metadata": {},
   "outputs": [],
   "source": []
  },
  {
   "cell_type": "markdown",
   "metadata": {},
   "source": [
    "- Une fonction qui renvoit le nombre de générations séparant 2 personnes (tester avec Noémie de Christian)"
   ]
  },
  {
   "cell_type": "code",
   "execution_count": null,
   "metadata": {},
   "outputs": [],
   "source": []
  },
  {
   "cell_type": "markdown",
   "metadata": {},
   "source": [
    "## II. Version orientée objet (naïve) <a name=\"OO\"></a>\n",
    "\n",
    "**Principe:** Le tableau et les fonctions de déplacement sont placées dans un même objet.\n",
    "\n",
    "<img alt=\"Classe arbre\" src=\"https://snlpdo.fr/tnsi/img/01-arbre_POO.svg\" width=\"200\">"
   ]
  },
  {
   "cell_type": "markdown",
   "metadata": {},
   "source": [
    "### Étape 1 : transposition directe de l'approche *impérative* <a name=\"OOe1\"></a>\n",
    "\n",
    "Écrire une classe `Arbre` qui stocke un arbre binaire dans un tableau:\n",
    "- un seul attribut `tableau`\n",
    "- réutiliser les 3 méthodes de déplacement\n",
    "\n",
    "et ne pas oublier:\n",
    "- le constructeur avec un tableau en paramètre\n",
    "- les docstrings de la classe et des méthodes"
   ]
  },
  {
   "cell_type": "code",
   "execution_count": null,
   "metadata": {},
   "outputs": [],
   "source": [
    "class Arbre:\n",
    "    ..."
   ]
  },
  {
   "cell_type": "code",
   "execution_count": null,
   "metadata": {},
   "outputs": [],
   "source": [
    "a1 = Arbre(['A', 'B', 'C', 'D', 'E', 'F', 'G'])\n",
    "a2 = Arbre(['A', 'B', 'C', None, None, 'F', None])"
   ]
  },
  {
   "cell_type": "markdown",
   "metadata": {},
   "source": [
    "Quelques tests:\n",
    "- afficher l'indice de l'enfant gauche de 0 pour a1 &rarr; 1\n",
    "- afficher la valeur de l'enfant gauche de 0 pour a1 &rarr; 'B'\n",
    "- afficher l'indice de l'enfant gauche de 5 pour a1 &rarr; -1\n",
    "- afficher l'indice de l'enfant gauche de 1 pour a2 &rarr; -1\n",
    "\n",
    "(corriger la classe si vous n'obtenez pas les bons résultats)"
   ]
  },
  {
   "cell_type": "code",
   "execution_count": null,
   "metadata": {},
   "outputs": [],
   "source": [
    "a1.index_left(0), a1.tableau[a1.index_left(0)], a1.index_left(5), a2.index_left(1)"
   ]
  },
  {
   "cell_type": "markdown",
   "metadata": {},
   "source": [
    "Ajouter d'autres tests utiles:"
   ]
  },
  {
   "cell_type": "code",
   "execution_count": null,
   "metadata": {},
   "outputs": [],
   "source": []
  },
  {
   "cell_type": "markdown",
   "metadata": {},
   "source": [
    "### Étape 2 : cacher les détails de l'implémentation (i.e. l'utilisation d'un tableau) <a name=\"OOe2\"></a>\n",
    "\n",
    "Écrire une nouvelle version de la classe `Arbre` avec:\n",
    "- *encapsulation*: 2 attributs cachés (le tableau `t` et l'index du noeud courant `pos`)\n",
    "- un constructeur avec un tableau en tant que paramètre.\n",
    "- les méthodes suivantes (sans paramètre): \n",
    "    - `is_empty`: teste si l'arbre est vide, \n",
    "    - `root`: aller à la racine\n",
    "    - `has_left`: teste si le noeud courant a un enfant gauche\n",
    "    - `left`: aller à l'enfant gauche du noeud courant\n",
    "    - `has_right`: teste si le noeud courant a un enfant droit\n",
    "    - `right`: aller à l'enfant droit du noeud courant\n",
    "    - `has_up`: teste si le noeud courant a un parent\n",
    "    - `up`: aller au parent du noeud courant\n",
    "    - `__repr__`: indique qu'il s'agit d'un arbre et renvoie les contenus de la racine et du noeud courant\n",
    "    - `__str__`: renvoie le contenu du noeud courant"
   ]
  },
  {
   "cell_type": "code",
   "execution_count": null,
   "metadata": {},
   "outputs": [],
   "source": [
    "class Arbre:\n",
    "    \"\"\"\n",
    "    Arbre binaire avec encapsulation.\n",
    "    Le stockage interne utilise un tableau.\n",
    "    \"\"\"\n",
    "    ..."
   ]
  },
  {
   "cell_type": "code",
   "execution_count": null,
   "metadata": {},
   "outputs": [],
   "source": [
    "a1 = Arbre(['A', 'B', 'C', 'D', 'E', 'F', 'G'])\n",
    "a2 = Arbre(['A', 'B', 'C', None, None, 'F', None])"
   ]
  },
  {
   "cell_type": "markdown",
   "metadata": {},
   "source": [
    "Test: afficher, s'il existe, la valeur de l'enfant gauche de la racine de a1\n",
    "\n",
    "(corriger la classe si vous n'obtenez pas les bons résultats)"
   ]
  },
  {
   "cell_type": "code",
   "execution_count": null,
   "metadata": {},
   "outputs": [],
   "source": [
    "if not a1.is_empty():\n",
    "    a1.root() # se replacer à la racine\n",
    "    if a1.has_left():\n",
    "        a1.left()\n",
    "        print(a1)"
   ]
  },
  {
   "cell_type": "markdown",
   "metadata": {},
   "source": [
    "Ajouter d'autres tests vous paraissant utiles:"
   ]
  },
  {
   "cell_type": "code",
   "execution_count": null,
   "metadata": {},
   "outputs": [],
   "source": []
  },
  {
   "cell_type": "markdown",
   "metadata": {},
   "source": [
    "Reprendre l'exemple de l'arbre d'ascendance avec la classe de l'étape 2"
   ]
  },
  {
   "cell_type": "code",
   "execution_count": null,
   "metadata": {},
   "outputs": [],
   "source": []
  }
 ],
 "metadata": {
  "kernelspec": {
   "display_name": "Python 3 (ipykernel)",
   "language": "python",
   "name": "python3"
  },
  "language_info": {
   "codemirror_mode": {
    "name": "ipython",
    "version": 3
   },
   "file_extension": ".py",
   "mimetype": "text/x-python",
   "name": "python",
   "nbconvert_exporter": "python",
   "pygments_lexer": "ipython3",
   "version": "3.10.7"
  },
  "toc": {
   "base_numbering": 1,
   "nav_menu": {},
   "number_sections": false,
   "sideBar": false,
   "skip_h1_title": false,
   "title_cell": "Table of Contents",
   "title_sidebar": "Contents",
   "toc_cell": false,
   "toc_position": {},
   "toc_section_display": true,
   "toc_window_display": false
  }
 },
 "nbformat": 4,
 "nbformat_minor": 2
}
