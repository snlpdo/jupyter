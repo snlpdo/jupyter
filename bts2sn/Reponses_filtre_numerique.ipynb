{
 "cells": [
  {
   "cell_type": "markdown",
   "metadata": {
    "slideshow": {
     "slide_type": "slide"
    }
   },
   "source": [
    "<div class = \"alert alert-danger\">\n",
    "    \n",
    "**Un notebook se lit en exécutant toutes les cellules de code au fur et à mesure.**  \n",
    "    \n",
    "Pour cela il y a le bouton <kbd>&#9658; Exécuter</kbd> dans la barre d'outils ou le raccourci clavier <kbd>Shift</kbd>+<kbd>Enter</kbd>\n",
    "    \n",
    "</div>"
   ]
  },
  {
   "cell_type": "code",
   "execution_count": null,
   "metadata": {
    "slideshow": {
     "slide_type": "-"
    }
   },
   "outputs": [],
   "source": [
    "import matplotlib.pyplot as plt\n",
    "import math\n",
    "import cmath"
   ]
  },
  {
   "cell_type": "markdown",
   "metadata": {
    "slideshow": {
     "slide_type": "slide"
    }
   },
   "source": [
    "# Réponses du filtre numérique\n",
    "\n",
    "- [1. Réponse indicielle](#indic)\n",
    "- [2. Réponse fréquentielle](#freq)"
   ]
  },
  {
   "cell_type": "markdown",
   "metadata": {
    "slideshow": {
     "slide_type": "fragment"
    }
   },
   "source": [
    "Le filtre RC d'équation différentielle $0.001s'(t)+s(t)=e(t)$ peut être approximé numériquement par l'algorithme (pour $T_e=0.1 ms$):\n",
    "\n",
    "$$s_n = 0.091e_n + 0.909s_{n-1}$$"
   ]
  },
  {
   "cell_type": "markdown",
   "metadata": {
    "slideshow": {
     "slide_type": "slide"
    }
   },
   "source": [
    "## 1. Réponse indicielle<a name=\"indic\"></a>\n",
    "\n",
    "Comparons les signaux de sortie des systèmes analogique et numérique lorsque le signal d'entrée est un échelon d'amplitude 10 V"
   ]
  },
  {
   "cell_type": "code",
   "execution_count": null,
   "metadata": {
    "slideshow": {
     "slide_type": "-"
    }
   },
   "outputs": [],
   "source": [
    "# Constantes\n",
    "Te = 0.0001 # 0.1 ms\n",
    "nb = 100 # ne calculer que 100 échantillons\n",
    "\n",
    "# Variables\n",
    "s = [0]*nb  # nb échantillons de sortie (à calculer)\n",
    "e = [10]*nb # nb échantillons d'entrée initialisés à 10\n",
    "t = [Te*i for i in range(nb)] # valeurs des instants d'échantillonnage"
   ]
  },
  {
   "cell_type": "markdown",
   "metadata": {
    "slideshow": {
     "slide_type": "fragment"
    }
   },
   "source": [
    "<div class=\"alert alert-warning\">\n",
    "    <b>Note:</b> comme son programme s'exécute indéfiniment (boucle sans fin), un microcontrôleur ne mémorise pas tous les échantillons de sortie et d'entrée. Il ne conserve que:\n",
    "    \n",
    "- l'échantillon de sortie courant (par exemple, pour envoyer au C.N.A)\n",
    "    \n",
    "- les échantillons d'entrée et de sortie précédents utilisés dans l'algorithme (ici 1 échantillon d'entrée et 1 échantillon de sortie).\n",
    "</div>"
   ]
  },
  {
   "cell_type": "markdown",
   "metadata": {
    "slideshow": {
     "slide_type": "subslide"
    }
   },
   "source": [
    "- le système analogique a pour solution mathématique le signal $s(t)=10(1-e^{-1000t})$"
   ]
  },
  {
   "cell_type": "code",
   "execution_count": null,
   "metadata": {
    "slideshow": {
     "slide_type": "-"
    }
   },
   "outputs": [],
   "source": [
    "s_analogique = [10*(1-math.exp(-1000*ti)) for ti in t]"
   ]
  },
  {
   "cell_type": "markdown",
   "metadata": {
    "slideshow": {
     "slide_type": "fragment"
    }
   },
   "source": [
    "- la réponse indicielle du système numérique se calcule à l'aide de l'algorithme:"
   ]
  },
  {
   "cell_type": "code",
   "execution_count": null,
   "metadata": {
    "slideshow": {
     "slide_type": "-"
    }
   },
   "outputs": [],
   "source": [
    "# Algorithme\n",
    "s[0] = 0.091 * e[0]\n",
    "for n in range(1,100): # Remplacé par while(True) pour un uC\n",
    "    s[n] = 0.091*e[n] + 0.909*s[n-1]"
   ]
  },
  {
   "cell_type": "code",
   "execution_count": null,
   "metadata": {
    "slideshow": {
     "slide_type": "fragment"
    }
   },
   "outputs": [],
   "source": [
    "# Afficher les 10 premiers échantillons de sortie\n",
    "s[0:10]"
   ]
  },
  {
   "cell_type": "markdown",
   "metadata": {
    "slideshow": {
     "slide_type": "subslide"
    }
   },
   "source": [
    "Dessinons les 2 réponses dans un même graphe:"
   ]
  },
  {
   "cell_type": "code",
   "execution_count": null,
   "metadata": {
    "slideshow": {
     "slide_type": "-"
    }
   },
   "outputs": [],
   "source": [
    "fig, ax = plt.subplots()\n",
    "\n",
    "# Réponse indicielle numérique\n",
    "ax.scatter(t,s,marker='.',label='algorithme')\n",
    "\n",
    "# Réponse indicielle analogique\n",
    "ax.plot(t,s_analogique, 'r', label='réponse analogique')\n",
    "\n",
    "# Configuration du graphe\n",
    "ax.set_xlabel('Temps [s]')\n",
    "ax.set_ylabel('Tension [V]')\n",
    "ax.legend()\n",
    "ax.grid()\n",
    "plt.show()"
   ]
  },
  {
   "cell_type": "markdown",
   "metadata": {
    "slideshow": {
     "slide_type": "fragment"
    }
   },
   "source": [
    "On constate que, mis à part les premiers instants, la réponse indicielle du système numérique suit bien celle du système analogique."
   ]
  },
  {
   "cell_type": "markdown",
   "metadata": {
    "slideshow": {
     "slide_type": "slide"
    }
   },
   "source": [
    "## 2. Réponse fréquentielle<a name=\"freq\"></a>"
   ]
  },
  {
   "cell_type": "markdown",
   "metadata": {
    "slideshow": {
     "slide_type": "-"
    }
   },
   "source": [
    "Calculons la transmittance en z de l'algorithme $s_n = 0.091e_n + 0.909s_{n-1}$:"
   ]
  },
  {
   "cell_type": "markdown",
   "metadata": {
    "slideshow": {
     "slide_type": "-"
    }
   },
   "source": [
    "<small>\n",
    "$$\\begin{align}\n",
    "S(z) = 0.091E(z) + 0.909z^{-1}S(z)\n",
    "\\Longleftrightarrow \\left(1-0.909z^{-1}\\right)S(z) = 0.091E(z)\n",
    "\\end{align}$$\n",
    "</small>\n",
    "\n",
    "et donc $H(z)=\\dfrac{S(z)}{E(z)}=\\dfrac{0.091}{1-0.909z^{-1}}$"
   ]
  },
  {
   "cell_type": "markdown",
   "metadata": {
    "slideshow": {
     "slide_type": "fragment"
    }
   },
   "source": [
    "<small>Expression en puissances de z positives:\n",
    "$H(z)=\\dfrac{0.091z}{z-0.909}$\n",
    "\n",
    "Rem: 1 pôle $|0.909|<1$ &rarr; le filtre est stable</small>"
   ]
  },
  {
   "cell_type": "markdown",
   "metadata": {
    "slideshow": {
     "slide_type": "subslide"
    }
   },
   "source": [
    "<div class=\"alert alert-info\">\n",
    "On admet que la transmittance isochrone équivalente du système numérique s'obtient en effectuant le changement de variable:\n",
    "\n",
    "$$\\underline{H}(jf) = H_{num}\\left(z=e^{2\\pi j\\frac{f}{f_e}}\\right)$$\n",
    "\n",
    "- Le module $A(f)=|\\underline{H}(jf)|$ correspond à l'amplification\n",
    "\n",
    "- $G(f)=20\\log(A(f))$ correspond au gain.\n",
    "</div>"
   ]
  },
  {
   "cell_type": "markdown",
   "metadata": {
    "slideshow": {
     "slide_type": "fragment"
    }
   },
   "source": [
    "Pour l'algorithme d'approximation du circuit RC, on a:\n",
    "\n",
    "$$\\underline{H}(jf) = \\dfrac{0.091}{1-0.909e^{-2\\pi j\\frac{f}{f_e}}}$$"
   ]
  },
  {
   "cell_type": "markdown",
   "metadata": {
    "slideshow": {
     "slide_type": "fragment"
    }
   },
   "source": [
    "<div class=\"alert alert-warning\">\n",
    "Il ne s'agit pas d'une fonction de transfert analogique habituelle, car elle ne s'exprime pas en fonction des puissances de f (ou de $\\omega$).\n",
    "</div>"
   ]
  },
  {
   "cell_type": "markdown",
   "metadata": {
    "slideshow": {
     "slide_type": "subslide"
    }
   },
   "source": [
    "Calculons ces grandeurs:"
   ]
  },
  {
   "cell_type": "code",
   "execution_count": null,
   "metadata": {},
   "outputs": [],
   "source": [
    "# Constante\n",
    "fe = 1/Te # 10 kHz"
   ]
  },
  {
   "cell_type": "code",
   "execution_count": null,
   "metadata": {
    "slideshow": {
     "slide_type": "fragment"
    }
   },
   "outputs": [],
   "source": [
    "# Axe des fréquences et transmittance\n",
    "f = [j*x for j in [1,10,100,1000] for x in range(1,10) ]\n",
    "h = [0.091/(1-0.909*cmath.exp(-2j*cmath.pi*fi/fe)) for fi in f]"
   ]
  },
  {
   "cell_type": "markdown",
   "metadata": {
    "slideshow": {
     "slide_type": "subslide"
    }
   },
   "source": [
    "Dessinons le diagramme de Bode en amplification:"
   ]
  },
  {
   "cell_type": "code",
   "execution_count": null,
   "metadata": {},
   "outputs": [],
   "source": [
    "# Amplification\n",
    "a = [abs(hi) for hi in h]\n",
    "\n",
    "fig, ax = plt.subplots()\n",
    "ax.plot(f, a)\n",
    "ax.set_xlim(0,5000) # Règle de Shannon (fe=10 kHz)\n",
    "ax.grid()\n",
    "ax.set_xlabel('Fréquence [Hz]')\n",
    "ax.set_ylabel('Amplification')\n",
    "plt.show()"
   ]
  },
  {
   "cell_type": "markdown",
   "metadata": {
    "slideshow": {
     "slide_type": "subslide"
    }
   },
   "source": [
    "Dessinons le diagramme de Bode en gain:"
   ]
  },
  {
   "cell_type": "code",
   "execution_count": null,
   "metadata": {},
   "outputs": [],
   "source": [
    "g = [20*cmath.log10(ai) for ai in a]\n",
    "\n",
    "fig, ax = plt.subplots()\n",
    "ax.plot(f, g)\n",
    "ax.set_xlim(0,5000) # Règle de Shannon (fe=10 kHz)\n",
    "ax.grid()\n",
    "ax.set_xlabel('Fréquence [Hz]')\n",
    "ax.set_ylabel('Gain [dB]')\n",
    "plt.show()"
   ]
  },
  {
   "cell_type": "markdown",
   "metadata": {
    "slideshow": {
     "slide_type": "fragment"
    }
   },
   "source": [
    "**Conclusion :** Il s'agit d'un filtre passe-bas. Si on zoome, on constate qu'il a une fréquence de coupure à -3dB de 150 Hz.\n",
    "\n",
    "(alors que le filtre analogique a une fréquence de coupure $f_c=\\frac{1}{2\\pi RC}=$159 Hz)"
   ]
  },
  {
   "cell_type": "code",
   "execution_count": null,
   "metadata": {},
   "outputs": [],
   "source": []
  }
 ],
 "metadata": {
  "celltoolbar": "Format de la Cellule Texte Brut",
  "kernelspec": {
   "display_name": "Python 3",
   "language": "python",
   "name": "python3"
  },
  "language_info": {
   "codemirror_mode": {
    "name": "ipython",
    "version": 3
   },
   "file_extension": ".py",
   "mimetype": "text/x-python",
   "name": "python",
   "nbconvert_exporter": "python",
   "pygments_lexer": "ipython3",
   "version": "3.8.2"
  }
 },
 "nbformat": 4,
 "nbformat_minor": 4
}
