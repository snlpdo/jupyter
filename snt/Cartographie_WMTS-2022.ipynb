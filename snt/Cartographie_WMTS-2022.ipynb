{
 "cells": [
  {
   "cell_type": "code",
   "execution_count": null,
   "metadata": {
    "scrolled": true,
    "slideshow": {
     "slide_type": "skip"
    }
   },
   "outputs": [],
   "source": [
    "import math\n",
    "from PIL import Image, ImageDraw\n",
    "import requests\n",
    "import xml.dom.minidom as dom\n",
    "\n",
    "ROUGE = (255,0,0)\n",
    "GRIS = (120,120,120)\n",
    "BLEU = (0,0,255)\n",
    "BLANC = (255,255,255)\n",
    "\n",
    "R_TERRE = 6_378_137\n",
    "CIRCONF = int(2 * math.pi * R_TERRE)"
   ]
  },
  {
   "cell_type": "markdown",
   "metadata": {
    "slideshow": {
     "slide_type": "slide"
    }
   },
   "source": [
    "# Cartographie WMTS\n",
    "\n",
    "*(Web Map Tile Service)*\n",
    "\n",
    "C'est un protocole qui permet d'échanger tout ou partie d'images tuilées multi-résolution de la surface terrestre.\n",
    "\n",
    "<img width=\"1024\" src=\"img/Rendu-niveaux_carte.png\" alt=\"3 premiers niveaux de résolution\">\n",
    "\n",
    "Habituellement, chaque tuile a une définition de 256x256 et les niveaux vont de 0 à 18."
   ]
  },
  {
   "cell_type": "markdown",
   "metadata": {
    "slideshow": {
     "slide_type": "slide"
    }
   },
   "source": [
    "Sommaire:\n",
    "\n",
    "- [Repère WMTS](#Repère-WMTS)\n",
    "- [Niveaux et tuiles WMTS](#Niveaux-de-résolution-et-tuiles-WMTS)\n",
    "- [Géoservices](#Géoservice)\n",
    "    - [Cartes IGN](#Cartes-IGN)\n",
    "    - [Géocodage](#Géocodage)"
   ]
  },
  {
   "cell_type": "markdown",
   "metadata": {
    "slideshow": {
     "slide_type": "slide"
    }
   },
   "source": [
    "## Repère WMTS\n",
    "\n",
    "La planisphère est projetée (Web Mercator) sur un carré dont le côté correspond à la circonférence de la Terre. L'origine se trouve dans le coin supérieur gauche, l'axe des abscisses est orienté vers la droite, l'axe des ordonnées est orienté vers le bas."
   ]
  },
  {
   "cell_type": "code",
   "execution_count": null,
   "metadata": {
    "slideshow": {
     "slide_type": "slide"
    }
   },
   "outputs": [],
   "source": [
    "repere = Image.open('img/terre.jpg')\n",
    "\n",
    "draw = ImageDraw.Draw(repere)\n",
    "draw.line([(0,0), (512,0)], ROUGE, 5)\n",
    "draw.line([(0,0), (0,512)], ROUGE, 5)\n",
    "draw.line([(256,0), (256,512)], GRIS, 1)\n",
    "draw.line([(0,256), (512, 256)], GRIS, 1)\n",
    "draw.ellipse([(-2,-2), (2,2)], ROUGE)\n",
    "draw.text((2,2), '(0,0)', ROUGE)\n",
    "draw.ellipse([(254,254), (258,258)], ROUGE)\n",
    "draw.text((190,260), '(CIRCONF/2,CIRCONF/2)', ROUGE)\n",
    "draw.ellipse([(508,508), (518,518)], ROUGE)\n",
    "draw.text((400,500), '(CIRCONF,CIRCONF)', ROUGE)\n",
    "\n",
    "display(repere)\n",
    "#repere.save('img/repere_wmts.jpg')"
   ]
  },
  {
   "cell_type": "markdown",
   "metadata": {
    "slideshow": {
     "slide_type": "subslide"
    }
   },
   "source": [
    "Constante:"
   ]
  },
  {
   "cell_type": "code",
   "execution_count": null,
   "metadata": {
    "scrolled": true
   },
   "outputs": [],
   "source": [
    "f\"Circonférence de la terre: {CIRCONF/1000:.3f} km\""
   ]
  },
  {
   "cell_type": "markdown",
   "metadata": {
    "slideshow": {
     "slide_type": "subslide"
    }
   },
   "source": [
    "- Coordonnées WMTS (projection Web Mercator avec changement de repère):\n",
    "\n",
    "$\\begin{cases}x_{wmts}=\\dfrac{CIRCONF}{2} + R_{Terre}\\cdot longitude_{[rad]}\\\\y_{wmts} = \\dfrac{CIRCONF}{2} - R_{Terre}\\cdot \\ln\\left( \\tan\\left( \\dfrac{latitude_{[rad]}}{2}+\\dfrac{\\pi}{4} \\right) \\right)\\end{cases}$"
   ]
  },
  {
   "cell_type": "code",
   "execution_count": null,
   "metadata": {
    "scrolled": true,
    "slideshow": {
     "slide_type": "fragment"
    }
   },
   "outputs": [],
   "source": [
    "def wmts(latitude, longitude):\n",
    "    '''\n",
    "    Calcule les coordonnées WMTS (en mètres)\n",
    "    d'une géolocalisation donnée (latitude et longitude en degrés)\n",
    "    '''\n",
    "    return (CIRCONF/2 + R_TERRE * math.radians(longitude),\n",
    "        CIRCONF/2 - R_TERRE * math.log(math.tan(math.radians(latitude)/2 + math.pi/4)) )"
   ]
  },
  {
   "cell_type": "code",
   "execution_count": null,
   "metadata": {
    "scrolled": true,
    "slideshow": {
     "slide_type": "fragment"
    }
   },
   "outputs": [],
   "source": [
    "# Lycée Vizille, ..., ...\n",
    "wmts(45.068116, 5.768002), wmts(0, 0), wmts(0, -180)"
   ]
  },
  {
   "cell_type": "markdown",
   "metadata": {
    "slideshow": {
     "slide_type": "slide"
    }
   },
   "source": [
    "## Niveaux de résolution et tuiles WMTS\n",
    "\n",
    "À chaque niveau de résolution *n*, l'image correspondante de la Terre est subdivisée en $2^n\\times 2^n$ tuiles (niveau 0: 1 tuile, niveau 1: 4 tuiles, niveau 2: 16 tuiles&hellip;). Chaque tuile est identifiée par ses indices de ligne et de colonne."
   ]
  },
  {
   "cell_type": "code",
   "execution_count": null,
   "metadata": {
    "scrolled": true,
    "slideshow": {
     "slide_type": "fragment"
    }
   },
   "outputs": [],
   "source": [
    "niveau2 = Image.open('img/terre.jpg')\n",
    "draw = ImageDraw.Draw(niveau2)\n",
    "\n",
    "draw.rectangle([(0,0), (511,511)], None, BLEU, 1)\n",
    "for i in range(4):\n",
    "    for j in range(4):\n",
    "        draw.rectangle([(128*j,128*i), (128*j+128,128*i+128)], None, BLEU, 1)\n",
    "        draw.text((128*j+45,128*i+60), f\"n2-({i},{j})\", BLEU)\n",
    "\n",
    "display(niveau2)\n",
    "#niveau2.save('img/wmts_n2.jpg')"
   ]
  },
  {
   "cell_type": "markdown",
   "metadata": {
    "slideshow": {
     "slide_type": "subslide"
    }
   },
   "source": [
    "Pour un niveau donnée, chaque tuile est un carré dont les côtés couvrent une distance (en mètre):"
   ]
  },
  {
   "cell_type": "code",
   "execution_count": null,
   "metadata": {
    "scrolled": true
   },
   "outputs": [],
   "source": [
    "def etendue_tuile(niveau):\n",
    "    '''Calcule l'étendue d'une tuile en mètres WMTS \n",
    "    (différents de mètres réels sauf au niveau de l'équateur)\n",
    "    '''\n",
    "    return (CIRCONF / (2**niveau))\n",
    "etendue_tuile(15)"
   ]
  },
  {
   "cell_type": "markdown",
   "metadata": {
    "slideshow": {
     "slide_type": "fragment"
    }
   },
   "source": [
    "Les indices de ligne et de colonne de la tuile de niveau *n* qui contient une géolocalisation donnée se calculent de la manière suivante:\n",
    "$\\begin{cases}l = \\dfrac{y_{wmts}}{distance\\_tuile(n)}\\\\c = \\dfrac{x_{wmts}}{distance\\_tuile(n)}\\end{cases}$"
   ]
  },
  {
   "cell_type": "code",
   "execution_count": null,
   "metadata": {
    "scrolled": true,
    "slideshow": {
     "slide_type": "subslide"
    }
   },
   "outputs": [],
   "source": [
    "def tuile_info(latitude, longitude, niveau=15):\n",
    "    '''\n",
    "    Calcule les indices de ligne et de colonne de la tuile\n",
    "    contenant la géolocalisation ainsi que les coordonnées\n",
    "    x et y (en pixel) de cette géolocalisation dans cette\n",
    "    tuile.\n",
    "    '''\n",
    "    cote = etendue_tuile(niveau)\n",
    "    coord = wmts(latitude, longitude)\n",
    "    ligne, colonne = int(coord[1]/cote), int(coord[0]/cote)\n",
    "    x = int(math.modf(coord[0]/cote)[0] * 256)\n",
    "    y = int(math.modf(coord[1]/cote)[0] * 256)\n",
    "    return ligne, colonne, x, y"
   ]
  },
  {
   "cell_type": "code",
   "execution_count": null,
   "metadata": {
    "scrolled": true,
    "slideshow": {
     "slide_type": "fragment"
    }
   },
   "outputs": [],
   "source": [
    "# Lycée Vizille, ...\n",
    "tuile_info(45.068116, 5.768002, 2), tuile_info(45.068116, -5.768002, 2)"
   ]
  },
  {
   "cell_type": "markdown",
   "metadata": {
    "slideshow": {
     "slide_type": "slide"
    }
   },
   "source": [
    "## Géoservices"
   ]
  },
  {
   "cell_type": "markdown",
   "metadata": {},
   "source": [
    "https://geoservices.ign.fr/\n",
    "\n",
    "- [clé essentiels](https://geoservices.ign.fr/services-web-essentiels): accès aux principaux services web, gratuitement et sans inscription.\n",
    "- [Scans IGN](https://geoservices.ign.fr/services-web-issus-des-scans-ign): SCAN 25®, SCAN 100®&hellip;, gratuitement (jusqu'à un certain seuil) et avec inscription (clé personnelle)\n",
    "- &hellip;"
   ]
  },
  {
   "cell_type": "code",
   "execution_count": null,
   "metadata": {
    "slideshow": {
     "slide_type": "fragment"
    }
   },
   "outputs": [],
   "source": [
    "def afficher_capacites():\n",
    "    url = f\"https://wxs.ign.fr/essentiels/geoportail/wmts?SERVICE=WMTS&REQUEST=GetCapabilities\"\n",
    "    print(url)\n",
    "\n",
    "    reponse=requests.get(url)\n",
    "\n",
    "    x = dom.parseString(reponse.text)\n",
    "    print(x.toprettyxml(indent='  ', newl='\\n'))"
   ]
  },
  {
   "cell_type": "code",
   "execution_count": null,
   "metadata": {},
   "outputs": [],
   "source": [
    "afficher_capacites()"
   ]
  },
  {
   "cell_type": "markdown",
   "metadata": {},
   "source": [
    "### Cartes IGN"
   ]
  },
  {
   "cell_type": "markdown",
   "metadata": {
    "slideshow": {
     "slide_type": "subslide"
    }
   },
   "source": [
    "- Récupérer une tuile connaissant ses indices:"
   ]
  },
  {
   "cell_type": "code",
   "execution_count": null,
   "metadata": {
    "scrolled": true
   },
   "outputs": [],
   "source": [
    "def get_tuile_ign(l, c, niveau=15, ortho=False):\n",
    "    url = (f\"https://wxs.ign.fr/essentiels/geoportail/wmts/?\"\n",
    "           \"SERVICE=WMTS&VERSION=1.0.0&REQUEST=GetTile\"\n",
    "           \"&TILEMATRIXSET=PM\" \n",
    "           f\"&TILEMATRIX={niveau}&TILEROW={l}&TILECOL={c}\"\n",
    "           f\"&STYLE=normal\")\n",
    "    if ortho:\n",
    "        url = url + \"&LAYER=ORTHOIMAGERY.ORTHOPHOTOS&FORMAT=image/jpeg\"\n",
    "    else:\n",
    "        url = url + \"&LAYER=GEOGRAPHICALGRIDSYSTEMS.PLANIGNV2&FORMAT=image/png\"\n",
    "    \n",
    "    return Image.open(requests.get(url, stream=True).raw)"
   ]
  },
  {
   "cell_type": "markdown",
   "metadata": {
    "slideshow": {
     "slide_type": "subslide"
    }
   },
   "source": [
    "Exemples:"
   ]
  },
  {
   "cell_type": "code",
   "execution_count": null,
   "metadata": {
    "scrolled": true
   },
   "outputs": [],
   "source": [
    "# La tuile orthographique du niveau 0\n",
    "terre_n0 = get_tuile_ign(0,0,0)\n",
    "draw = ImageDraw.Draw(terre_n0)\n",
    "draw.rectangle([(0,0), (255,255)], None, GRIS)\n",
    "display(terre_n0)\n",
    "#terre_n0.save('img/terre_n0.jpg')"
   ]
  },
  {
   "cell_type": "code",
   "execution_count": null,
   "metadata": {
    "scrolled": false,
    "slideshow": {
     "slide_type": "subslide"
    }
   },
   "outputs": [],
   "source": [
    "# Les 4 tuiles orthographiques du niveau 1\n",
    "terre_n1 = Image.new('RGB', (2*256, 2*256))\n",
    "for i in range(2):\n",
    "    for j in range(2):\n",
    "        t = get_tuile_ign(i,j,1)\n",
    "        terre_n1.paste(t, (256*j, 256*i))\n",
    "\n",
    "draw = ImageDraw.Draw(terre_n1)\n",
    "for i in range(2):\n",
    "    for j in range(2):\n",
    "        draw.rectangle([(j*256,i*256), (j*256+255,i*256+255)], None, GRIS)\n",
    "\n",
    "display(terre_n1)\n",
    "#terre_n1.save('img/terre_n1.jpg')"
   ]
  },
  {
   "cell_type": "code",
   "execution_count": null,
   "metadata": {
    "scrolled": false,
    "slideshow": {
     "slide_type": "subslide"
    }
   },
   "outputs": [],
   "source": [
    "# Les 16 tuiles orthographiques du niveau 2\n",
    "terre_n2 = Image.new('RGB', (4*256, 4*256), BLANC)\n",
    "for i in range(4):\n",
    "    for j in range(4):\n",
    "        print(i,j)\n",
    "        t = get_tuile_ign(i,j,2)\n",
    "        terre_n2.paste(t, (256*j, 256*i))\n",
    "\n",
    "draw = ImageDraw.Draw(terre_n2)\n",
    "for i in range(4):\n",
    "    for j in range(4):\n",
    "        draw.rectangle([(j*256,i*256), (j*256+255,i*256+255)], None, GRIS)\n",
    "display(terre_n2)\n",
    "#terre_n2.save('img/terre_n2.jpg')"
   ]
  },
  {
   "cell_type": "markdown",
   "metadata": {
    "slideshow": {
     "slide_type": "subslide"
    }
   },
   "source": [
    "- Récupérer une tuile contenant une géolocalisation spécifique:"
   ]
  },
  {
   "cell_type": "code",
   "execution_count": null,
   "metadata": {
    "scrolled": false
   },
   "outputs": [],
   "source": [
    "def get_geo_tuile_ign(latitude, longitude, niveau=15, ortho=False, dispLoc=False):\n",
    "    (l,c, x, y) = tuile_info(latitude, longitude, niveau)\n",
    "    t = get_tuile_ign(l, c, niveau, ortho)\n",
    "    if dispLoc:\n",
    "        draw = ImageDraw.Draw(t)\n",
    "        draw.ellipse([(x-4, y-4), (x+4, y+4)], (255,0,0))\n",
    "    return t"
   ]
  },
  {
   "cell_type": "markdown",
   "metadata": {},
   "source": [
    "Exemple:"
   ]
  },
  {
   "cell_type": "code",
   "execution_count": null,
   "metadata": {
    "scrolled": false,
    "slideshow": {
     "slide_type": "subslide"
    }
   },
   "outputs": [],
   "source": [
    "# Coordonnées de la tour Eiffel\n",
    "latitude, longitude = 48.8584, 2.2945\n",
    "# Coordonnées de Vizille\n",
    "latitude, longitude = 45.068116, 5.768002\n",
    "\n",
    "t = get_geo_tuile_ign(latitude, longitude, 15, ortho=False, dispLoc=True)\n",
    "display(t)"
   ]
  },
  {
   "cell_type": "code",
   "execution_count": null,
   "metadata": {
    "slideshow": {
     "slide_type": "subslide"
    }
   },
   "outputs": [],
   "source": [
    "from ipywidgets import interact, fixed, widgets\n",
    "interact(get_geo_tuile_ign, \n",
    "         latitude=fixed(45.068116), longitude=fixed(5.768002),\n",
    "         niveau=widgets.IntSlider(value=15,min=0,max=18, continuous_update=False), ortho=False, dispLoc=True)"
   ]
  },
  {
   "cell_type": "markdown",
   "metadata": {
    "slideshow": {
     "slide_type": "slide"
    }
   },
   "source": [
    "### Géocodage\n",
    "\n",
    "Ce service permet d'obtenir la géolocalisation d'une adresse.\n",
    "\n",
    "(https://geoservices.ign.fr/documentation/geoservices/geocodage.html)"
   ]
  },
  {
   "cell_type": "code",
   "execution_count": null,
   "metadata": {},
   "outputs": [],
   "source": [
    "def localiser(adresse):\n",
    "    content = ( \"<?xml version=\\\"1.0\\\" encoding=\\\"UTF-8\\\"?>\\n\"\n",
    "                \"<XLS\\n\"\n",
    "                \"  xmlns:gml=\\\"http://www.opengis.net/gml\\\"\\n\"\n",
    "                \"  xmlns=\\\"http://www.opengis.net/xls\\\"\\n\"\n",
    "                \"  xmlns:xsi=\\\"http://www.w3.org/2001/XMLSchema-instance\\\" version=\\\"1.2\\\"\\n\"\n",
    "                \"  xsi:schemaLocation=\\\"http://www.opengis.net/xls http://schemas.opengis.net/ols/1.2/olsAll.xsd\\\">\\n\"\n",
    "                \"  <RequestHeader srsName=\\\"epsg:4326\\\"/>\\n\"\n",
    "                \"  <Request maximumResponses=\\\"1\\\" methodName=\\\"GeocodeRequest\\\" requestID=\\\"uid42\\\" version=\\\"1.2\\\">\\n\"\n",
    "                \"  <GeocodeRequest returnFreeForm=\\\"false\\\">\\n\"\n",
    "                \"    <Address countryCode=\\\"StreetAddress\\\">\\n\"\n",
    "                f\"      <freeFormAddress>{adresse}</freeFormAddress>\\n\"\n",
    "                \"    </Address>\\n\"\n",
    "                \"  </GeocodeRequest>\\n\"\n",
    "                \"  </Request>\\n\"\n",
    "                \"</XLS>\\n\")\n",
    "    url = f\"https://wxs.ign.fr/essentiels/geoportail/ols?\"\n",
    "    reponse = requests.post(url, headers={'Content-Type': 'text/xml'}, data=content)\n",
    "    doc = dom.parseString(reponse.text)\n",
    "    coord = doc.getElementsByTagName(\"gml:pos\")[0].firstChild.toprettyxml().rstrip().split(' ')\n",
    "    \n",
    "    return float(coord[0]), float(coord[1]) # latitude, longitude"
   ]
  },
  {
   "cell_type": "code",
   "execution_count": null,
   "metadata": {
    "slideshow": {
     "slide_type": "subslide"
    }
   },
   "outputs": [],
   "source": [
    "latitude, longitude = localiser('960 avenue Aristide Briand 38220 Vizille')\n",
    "t = get_geo_tuile_ign(latitude, longitude, 15, dispLoc=True)\n",
    "display(t)"
   ]
  },
  {
   "cell_type": "code",
   "execution_count": null,
   "metadata": {},
   "outputs": [],
   "source": []
  }
 ],
 "metadata": {
  "celltoolbar": "Format de la Cellule Texte Brut",
  "kernelspec": {
   "display_name": "Python 3 (ipykernel)",
   "language": "python",
   "name": "python3"
  },
  "language_info": {
   "codemirror_mode": {
    "name": "ipython",
    "version": 3
   },
   "file_extension": ".py",
   "mimetype": "text/x-python",
   "name": "python",
   "nbconvert_exporter": "python",
   "pygments_lexer": "ipython3",
   "version": "3.10.4"
  },
  "nteract": {
   "version": "nteract-on-jupyter@0.35.4"
  },
  "toc": {
   "base_numbering": 1,
   "nav_menu": {},
   "number_sections": false,
   "sideBar": false,
   "skip_h1_title": false,
   "title_cell": "Table of Contents",
   "title_sidebar": "Contents",
   "toc_cell": false,
   "toc_position": {},
   "toc_section_display": true,
   "toc_window_display": false
  }
 },
 "nbformat": 4,
 "nbformat_minor": 2
}
